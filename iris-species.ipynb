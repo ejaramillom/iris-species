{
 "cells": [
  {
   "cell_type": "code",
   "execution_count": 14,
   "id": "initial_id",
   "metadata": {
    "collapsed": true,
    "ExecuteTime": {
     "end_time": "2024-01-20T15:05:01.298385485Z",
     "start_time": "2024-01-20T15:05:01.280942779Z"
    }
   },
   "outputs": [
    {
     "name": "stdout",
     "output_type": "stream",
     "text": [
      "decision tree classifier for iris species\n",
      "then we write an example with numbers and summon the decision tree classifier again\n",
      "we return the list of integers we got from the input of the user\n",
      "this is the data import with the dataset\n",
      "this is the model fit with the dataset\n",
      "this is the predictions made with the model\n",
      "[[5.4, 3.7, 1.5, 0.2]]\n",
      "[[0, 1.0]]\n",
      "Finished!\n"
     ]
    }
   ],
   "source": [
    "from sklearn import datasets, tree\n",
    "import numpy as np\n",
    "\n",
    "print('decision tree classifier for iris species')\n",
    "\n",
    "# define a method import_data to read the dataset and train our decision tree\n",
    "def import_data() -> tuple:\n",
    "   iris = datasets.load_iris()\n",
    "   X = iris.data\n",
    "   y = iris.target\n",
    "   print('this is the data import with the dataset')\n",
    "   return X, y\n",
    "\n",
    "# then we create a method to predict the iris species for new examples\n",
    "# it takes a numpy array containing a value for each of the four model features\n",
    "# sepal length, sepal width, petal length, and petal width\n",
    "def fit_dt_model() -> tree.DecisionTreeClassifier:\n",
    "   X, y = import_data()\n",
    "   dt_model = tree.DecisionTreeClassifier()\n",
    "   dt_model.fit(X, y)\n",
    "   print('this is the model fit with the dataset')\n",
    "   return dt_model\n",
    "\n",
    "def make_iris_predictions(X_values: np.array) -> tuple:\n",
    "   model = fit_dt_model()\n",
    "   class_pred = model.predict(X_values)\n",
    "   predict_proba = model.predict_proba(X_values)\n",
    "   print('this is the predictions made with the model')\n",
    "   return class_pred, predict_proba\n",
    "\n",
    "# we will use the dataset as comma delimited strings\n",
    "# so we have to do a type cast method\n",
    "\n",
    "# nested for loops method\n",
    "# def convert_to_int_list(number_strings: list) -> list:\n",
    "#    list_of_int_lists = []\n",
    "#    int_list = []\n",
    "# \n",
    "#    for number_string in number_strings:\n",
    "#       for number in number_string.split(','):\n",
    "#          int_list.append(float(number))\n",
    "#       list_of_int_lists.append(int_list)     \n",
    "#    return int_list\n",
    "\n",
    "# vectorization technique method\n",
    "def convert_to_int_list(number_strings: list) -> list:\n",
    "    list_of_float_arrays = []\n",
    "\n",
    "    for number_string in number_strings:\n",
    "        numbers = number_string.split(',')\n",
    "        float_array = np.array(numbers, dtype=float)\n",
    "        list_of_float_arrays.append(float_array)\n",
    "    result_array = np.stack(list_of_float_arrays)\n",
    "    result_list = result_array.tolist()\n",
    "    print('we return the list of integers we got from the input of the user')\n",
    "    return result_list\n",
    "\n",
    "# let us then pass a set of values to determine a prediction\n",
    "print('then we write an example with numbers and summon the decision tree classifier again')\n",
    "irises = [\"5.4, 3.7, 1.5, 0.2\"]\n",
    "iris_inputs = convert_to_int_list(irises)\n",
    "\n",
    "iris_predictions = []\n",
    "for iris in iris_inputs:\n",
    "   class_pred, class_probas = make_iris_predictions(np.array([iris]))\n",
    "   iris_predictions.append([class_pred[0], class_probas[0][class_pred[0]]])\n",
    "   print(iris_inputs)\n",
    "   print(iris_predictions)\n",
    "   print('Finished!')\n"
   ]
  },
  {
   "cell_type": "code",
   "outputs": [],
   "source": [],
   "metadata": {
    "collapsed": false,
    "ExecuteTime": {
     "end_time": "2024-01-15T17:16:57.010700871Z",
     "start_time": "2024-01-15T17:16:57.002647085Z"
    }
   },
   "id": "d5c98a1ae6eaeeea",
   "execution_count": 8
  }
 ],
 "metadata": {
  "kernelspec": {
   "name": "python3",
   "language": "python",
   "display_name": "Python 3 (ipykernel)"
  },
  "language_info": {
   "codemirror_mode": {
    "name": "ipython",
    "version": 2
   },
   "file_extension": ".py",
   "mimetype": "text/x-python",
   "name": "python",
   "nbconvert_exporter": "python",
   "pygments_lexer": "ipython2",
   "version": "2.7.6"
  }
 },
 "nbformat": 4,
 "nbformat_minor": 5
}
